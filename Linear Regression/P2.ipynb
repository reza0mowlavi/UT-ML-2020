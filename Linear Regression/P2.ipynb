{
 "cells": [
  {
   "cell_type": "code",
   "execution_count": null,
   "metadata": {
    "id": "azWcEAMGakPz"
   },
   "outputs": [],
   "source": [
    "#!unzip linear_regression.zip"
   ]
  },
  {
   "cell_type": "code",
   "execution_count": null,
   "metadata": {
    "id": "42tlKEYl4aci"
   },
   "outputs": [],
   "source": [
    "import numpy as np\n",
    "import matplotlib.pyplot as plt\n",
    "\n",
    "from linear_regression import SGDRegressor,LinearRegression,GridSearch,SSE"
   ]
  },
  {
   "cell_type": "markdown",
   "metadata": {
    "id": "nn3Pr3yqntUT"
   },
   "source": [
    "### Load data"
   ]
  },
  {
   "cell_type": "code",
   "execution_count": null,
   "metadata": {
    "colab": {
     "base_uri": "https://localhost:8080/"
    },
    "id": "iaVSHDkeJJGS",
    "outputId": "c7aaec27-dd0f-477b-8f75-dde02dea4882"
   },
   "outputs": [
    {
     "name": "stdout",
     "output_type": "stream",
     "text": [
      "X.shape= (8000, 2) -- y.shape= (8000,)\n",
      "X_test.shape= (2000, 2) -- y_test.shape= (2000,)\n"
     ]
    }
   ],
   "source": [
    "filepath = './data.npz'\n",
    "\n",
    "def load_data(filepath):\n",
    "    def f(x1,x2):\n",
    "        x1 = x1.reshape((-1,1))\n",
    "        x2 = x2.reshape((-1,1))\n",
    "        return np.concatenate([x1,x2],axis = 1)\n",
    "    data = np.load(filepath)\n",
    "    X = f(data['x1'],data['x2'])\n",
    "    X_test = f(data['x1_test'],data['x2_test'])\n",
    "    \n",
    "    return (X,data['y']),(X_test,data['y_test'])\n",
    "\n",
    "(X,y),(X_test,y_test) = load_data(filepath)\n",
    "print(f'X.shape= {X.shape} -- y.shape= {y.shape}')\n",
    "print(f'X_test.shape= {X_test.shape} -- y_test.shape= {y_test.shape}')"
   ]
  },
  {
   "cell_type": "markdown",
   "metadata": {
    "id": "11XPPCE8_HFC"
   },
   "source": [
    "### Training Linear Regression using normal equation with degree=1"
   ]
  },
  {
   "cell_type": "code",
   "execution_count": null,
   "metadata": {
    "colab": {
     "base_uri": "https://localhost:8080/"
    },
    "id": "0Gn1sSg3_Ed7",
    "outputId": "c616c1ef-c060-4f1c-8327-02f520af67b7"
   },
   "outputs": [
    {
     "name": "stdout",
     "output_type": "stream",
     "text": [
      "Train rmse score: -1513.1820648210169\n",
      "Test rmse score: -2544.0872583081773\n",
      "Train SSE: 18317759690.36797\n",
      "Test SSE: 12944759955.77204\n"
     ]
    }
   ],
   "source": [
    "lin_reg = LinearRegression(degree=1)\n",
    "lin_reg.fit(X,y)\n",
    "lin_reg.score(X_test,y_test)\n",
    "\n",
    "print('Train rmse score:',lin_reg.score(X,y))\n",
    "print('Test rmse score:',lin_reg.score(X_test,y_test))\n",
    "\n",
    "print('Train SSE:',SSE(y,lin_reg.predict(X)))\n",
    "print('Test SSE:',SSE(y_test,lin_reg.predict(X_test)))"
   ]
  },
  {
   "cell_type": "markdown",
   "metadata": {
    "id": "4qcIPhpWnz_n"
   },
   "source": [
    "### Training Linear Regression using normal equation with degree=3"
   ]
  },
  {
   "cell_type": "code",
   "execution_count": null,
   "metadata": {
    "colab": {
     "base_uri": "https://localhost:8080/"
    },
    "id": "WNfvLMZULxww",
    "outputId": "8c99ed14-f564-42ac-f062-89e40ac82ebb"
   },
   "outputs": [
    {
     "name": "stdout",
     "output_type": "stream",
     "text": [
      "Train rmse score: -2.10329063769113e-09\n",
      "Test rmse score: -6.4511651442098415e-09\n",
      "Train SSE: 3.539065205279329e-14\n",
      "Test SSE: 8.323506343573597e-14\n"
     ]
    }
   ],
   "source": [
    "lin_reg = LinearRegression(degree=3)\n",
    "lin_reg.fit(X,y)\n",
    "lin_reg.score(X_test,y_test)\n",
    "\n",
    "print('Train rmse score:',lin_reg.score(X,y))\n",
    "print('Test rmse score:',lin_reg.score(X_test,y_test))\n",
    "\n",
    "print('Train SSE:',SSE(y,lin_reg.predict(X)))\n",
    "print('Test SSE:',SSE(y_test,lin_reg.predict(X_test)))"
   ]
  },
  {
   "cell_type": "markdown",
   "metadata": {
    "id": "PoDSCn22_7s8"
   },
   "source": [
    "### Training Linear Regression using normal equation with degree=5"
   ]
  },
  {
   "cell_type": "code",
   "execution_count": null,
   "metadata": {
    "colab": {
     "base_uri": "https://localhost:8080/"
    },
    "id": "KJA91ydw_-cy",
    "outputId": "fb72159a-0970-4baa-c1b6-0b59521727f8"
   },
   "outputs": [
    {
     "name": "stdout",
     "output_type": "stream",
     "text": [
      "Train rmse score: -2.10329063769113e-09\n",
      "Test rmse score: -6.4511651442098415e-09\n",
      "Train SSE: 3.539065205279329e-14\n",
      "Test SSE: 8.323506343573597e-14\n"
     ]
    }
   ],
   "source": [
    "lin_reg = LinearRegression(degree=3)\n",
    "lin_reg.fit(X,y)\n",
    "lin_reg.score(X_test,y_test)\n",
    "\n",
    "print('Train rmse score:',lin_reg.score(X,y))\n",
    "print('Test rmse score:',lin_reg.score(X_test,y_test))\n",
    "\n",
    "print('Train SSE:',SSE(y,lin_reg.predict(X)))\n",
    "print('Test SSE:',SSE(y_test,lin_reg.predict(X_test)))"
   ]
  },
  {
   "cell_type": "markdown",
   "metadata": {
    "id": "WdBj3kpy8NFF"
   },
   "source": [
    "### It seems using degree=3 does very good on both training and test data\n",
    "### degree=3 or degree=5 are same"
   ]
  },
  {
   "cell_type": "markdown",
   "metadata": {
    "id": "EcNX1LB08nv4"
   },
   "source": [
    "### Using Grid search to find best lambda, degree=1"
   ]
  },
  {
   "cell_type": "code",
   "execution_count": null,
   "metadata": {
    "colab": {
     "base_uri": "https://localhost:8080/"
    },
    "id": "aXIWqOkC8Wa-",
    "outputId": "2550efdb-b4d6-49a0-a721-5dc122c66f83"
   },
   "outputs": [
    {
     "name": "stdout",
     "output_type": "stream",
     "text": [
      "{'lambda_': 0.0001} => mean:-1513.8700202146722 -- std:21.037938961084024\n",
      "{'lambda_': 0.001} => mean:-1513.8700202097348 -- std:21.03793987870202\n",
      "{'lambda_': 0.01} => mean:-1513.8700201603929 -- std:21.037949054881842\n",
      "{'lambda_': 0.1} => mean:-1513.8700196699492 -- std:21.038040816545905\n",
      "{'lambda_': None} => mean:-1513.8700202152206 -- std:21.037938859126484\n",
      "{'lambda_': 1} => mean:-1513.8700150631976 -- std:21.038958419990152\n",
      "{'lambda_': 100.0} => mean:-1513.872801523405 -- std:21.13974839143138\n",
      "{'lambda_': 1000.0} => mean:-1514.1876448188527 -- std:22.042783079267654\n",
      "{'lambda_': 10000.0} => mean:-1538.227970276537 -- std:29.86281075115457\n"
     ]
    }
   ],
   "source": [
    "param_grid = {'lambda_':[1e-4,1e-3,1e-2,1e-1,None,1,1e2,1e3,1e4]}\n",
    "clf_params = {'degree':None}\n",
    "\n",
    "grid_search = GridSearch(LinearRegression,cv=5,n_jobs=-1,param_grid=param_grid,clf_params=clf_params)\n",
    "best,best_mean_score=grid_search.fit(X,y)"
   ]
  },
  {
   "cell_type": "code",
   "execution_count": null,
   "metadata": {
    "colab": {
     "base_uri": "https://localhost:8080/"
    },
    "id": "cA4r3JzH8WeF",
    "outputId": "b8c24016-25dd-4032-c69c-45d66a2f9528"
   },
   "outputs": [
    {
     "data": {
      "text/plain": [
       "({'best_mean_score': -1513.8700150631976,\n",
       "  'lambda_': 1,\n",
       "  'scores': [-1525.2727720226092,\n",
       "   -1545.3111190879383,\n",
       "   -1507.6998687390055,\n",
       "   -1481.6754597050751,\n",
       "   -1509.3908557613595]},\n",
       " -1513.8700150631976)"
      ]
     },
     "execution_count": 8,
     "metadata": {
      "tags": []
     },
     "output_type": "execute_result"
    }
   ],
   "source": [
    " best,best_mean_score"
   ]
  },
  {
   "cell_type": "code",
   "execution_count": null,
   "metadata": {
    "colab": {
     "base_uri": "https://localhost:8080/"
    },
    "id": "Rct6Us0gAiYX",
    "outputId": "d046287f-5260-43b0-f82c-3329f0dfb1aa"
   },
   "outputs": [
    {
     "name": "stdout",
     "output_type": "stream",
     "text": [
      "Train rmse score: -1513.1820650349068\n",
      "Test rmse score: -2544.0987962845034\n",
      "Train SSE: 18317759695.54644\n",
      "Test SSE: 12944877370.51252\n"
     ]
    }
   ],
   "source": [
    "lin_reg = LinearRegression(degree=1,lambda_=1)\n",
    "lin_reg.fit(X,y)\n",
    "lin_reg.score(X_test,y_test)\n",
    "\n",
    "print('Train rmse score:',lin_reg.score(X,y))\n",
    "print('Test rmse score:',lin_reg.score(X_test,y_test))\n",
    "\n",
    "print('Train SSE:',SSE(y,lin_reg.predict(X)))\n",
    "print('Test SSE:',SSE(y_test,lin_reg.predict(X_test)))"
   ]
  },
  {
   "cell_type": "code",
   "execution_count": null,
   "metadata": {
    "id": "2ZQ9T6AV-int"
   },
   "outputs": [],
   "source": []
  },
  {
   "cell_type": "markdown",
   "metadata": {
    "id": "9kjxFKM0AvAe"
   },
   "source": [
    "### Using Grid search to find best lambda, degree=3"
   ]
  },
  {
   "cell_type": "code",
   "execution_count": null,
   "metadata": {
    "colab": {
     "base_uri": "https://localhost:8080/"
    },
    "id": "lz7xRQ88-irw",
    "outputId": "8451e00f-19c7-4e2b-b283-2ab59ec717cf"
   },
   "outputs": [
    {
     "name": "stdout",
     "output_type": "stream",
     "text": [
      "{'lambda_': 0.0001} => mean:-2.0501842807592193e-07 -- std:6.112634312737054e-09\n",
      "{'lambda_': 0.001} => mean:-2.0620118042572972e-06 -- std:5.373613032640176e-08\n",
      "{'lambda_': 0.01} => mean:-2.061466848072127e-05 -- std:5.405390677107343e-07\n",
      "{'lambda_': 0.1} => mean:-0.00020609117497951839 -- std:5.41557862243761e-06\n",
      "{'lambda_': None} => mean:-2.801481010930713e-09 -- std:8.016804849494081e-10\n",
      "{'lambda_': 1} => mean:-0.002055080565504343 -- std:5.393731931374226e-05\n",
      "{'lambda_': 100.0} => mean:-0.15682193280254564 -- std:0.0036989536085196974\n",
      "{'lambda_': 1000.0} => mean:-0.5068112764761196 -- std:0.009066329790036765\n",
      "{'lambda_': 10000.0} => mean:-0.7872285599870116 -- std:0.010790570958996833\n"
     ]
    }
   ],
   "source": [
    "param_grid = {'lambda_':[1e-4,1e-3,1e-2,1e-1,None,1,1e2,1e3,1e4]}\n",
    "clf_params = {'degree':3}\n",
    "\n",
    "grid_search = GridSearch(LinearRegression,cv=5,n_jobs=-1,param_grid=param_grid,clf_params=clf_params)\n",
    "best,best_mean_score=grid_search.fit(X,y)"
   ]
  },
  {
   "cell_type": "code",
   "execution_count": null,
   "metadata": {
    "colab": {
     "base_uri": "https://localhost:8080/"
    },
    "id": "TY3ojjH2A3Om",
    "outputId": "b67bf441-a27f-434c-cfda-dc168ff6c71a"
   },
   "outputs": [
    {
     "data": {
      "text/plain": [
       "({'best_mean_score': -2.801481010930713e-09,\n",
       "  'lambda_': None,\n",
       "  'scores': [-3.864609317854727e-09,\n",
       "   -3.278850311645886e-09,\n",
       "   -3.030550730783084e-09,\n",
       "   -2.2610645593866254e-09,\n",
       "   -1.572330134983244e-09]},\n",
       " -2.801481010930713e-09)"
      ]
     },
     "execution_count": 11,
     "metadata": {
      "tags": []
     },
     "output_type": "execute_result"
    }
   ],
   "source": [
    " best,best_mean_score"
   ]
  },
  {
   "cell_type": "code",
   "execution_count": null,
   "metadata": {
    "colab": {
     "base_uri": "https://localhost:8080/"
    },
    "id": "JdwlIYEK-i58",
    "outputId": "9fbf7408-587d-41bd-b5c4-aa83a5546e7c"
   },
   "outputs": [
    {
     "name": "stdout",
     "output_type": "stream",
     "text": [
      "Train rmse score: -2.10329063769113e-09\n",
      "Test rmse score: -6.4511651442098415e-09\n",
      "Train SSE: 3.539065205279329e-14\n",
      "Test SSE: 8.323506343573597e-14\n"
     ]
    }
   ],
   "source": [
    "lin_reg = LinearRegression(degree=3,lambda_=None)\n",
    "lin_reg.fit(X,y)\n",
    "lin_reg.score(X_test,y_test)\n",
    "\n",
    "print('Train rmse score:',lin_reg.score(X,y))\n",
    "print('Test rmse score:',lin_reg.score(X_test,y_test))\n",
    "\n",
    "print('Train SSE:',SSE(y,lin_reg.predict(X)))\n",
    "print('Test SSE:',SSE(y_test,lin_reg.predict(X_test)))"
   ]
  },
  {
   "cell_type": "code",
   "execution_count": null,
   "metadata": {
    "id": "0fNbTeVXA64b"
   },
   "outputs": [],
   "source": []
  },
  {
   "cell_type": "markdown",
   "metadata": {
    "id": "Dm0CVd5RA6-n"
   },
   "source": [
    "### Using Grid search to find best lambda, degree=5"
   ]
  },
  {
   "cell_type": "code",
   "execution_count": null,
   "metadata": {
    "colab": {
     "base_uri": "https://localhost:8080/"
    },
    "id": "CpFvheSGBB9f",
    "outputId": "46fd43e3-f9fe-44d6-8473-aa6f86654fdb"
   },
   "outputs": [
    {
     "name": "stdout",
     "output_type": "stream",
     "text": [
      "{'lambda_': 0.0001} => mean:-2.0590366757803476e-07 -- std:2.6239269604749615e-09\n",
      "{'lambda_': 0.001} => mean:-2.0586546999521446e-06 -- std:2.0188993019701405e-08\n",
      "{'lambda_': 0.01} => mean:-2.0610740028067526e-05 -- std:2.0202675787273217e-07\n",
      "{'lambda_': 0.1} => mean:-0.00020605750976539875 -- std:2.015831587926074e-06\n",
      "{'lambda_': None} => mean:-1.456214517202294e-09 -- std:4.734068723862584e-10\n",
      "{'lambda_': 1} => mean:-0.0020547492283368583 -- std:2.0091506791611397e-05\n",
      "{'lambda_': 100.0} => mean:-0.15681205529611117 -- std:0.0015167120964932237\n",
      "{'lambda_': 1000.0} => mean:-0.5068988531884699 -- std:0.005609666236021318\n",
      "{'lambda_': 10000.0} => mean:-0.7876452465808452 -- std:0.01669196489950356\n"
     ]
    }
   ],
   "source": [
    "param_grid = {'lambda_':[1e-4,1e-3,1e-2,1e-1,None,1,1e2,1e3,1e4]}\n",
    "clf_params = {'degree':3}\n",
    "\n",
    "grid_search = GridSearch(LinearRegression,cv=5,n_jobs=-1,param_grid=param_grid,clf_params=clf_params)\n",
    "best,best_mean_score=grid_search.fit(X,y)"
   ]
  },
  {
   "cell_type": "code",
   "execution_count": null,
   "metadata": {
    "colab": {
     "base_uri": "https://localhost:8080/"
    },
    "id": "m-X9E-2wBDa4",
    "outputId": "f712c49b-1047-455a-cef9-9d8bde590d00"
   },
   "outputs": [
    {
     "data": {
      "text/plain": [
       "({'best_mean_score': -1.456214517202294e-09,\n",
       "  'lambda_': None,\n",
       "  'scores': [-1.7278367078670415e-09,\n",
       "   -7.662992375359558e-10,\n",
       "   -1.0114344364744667e-09,\n",
       "   -1.904055367896122e-09,\n",
       "   -1.8714468362378835e-09]},\n",
       " -1.456214517202294e-09)"
      ]
     },
     "execution_count": 14,
     "metadata": {
      "tags": []
     },
     "output_type": "execute_result"
    }
   ],
   "source": [
    "best,best_mean_score"
   ]
  },
  {
   "cell_type": "code",
   "execution_count": null,
   "metadata": {
    "colab": {
     "base_uri": "https://localhost:8080/"
    },
    "id": "t-UE2sDkA-og",
    "outputId": "3ca8adf4-adce-4f11-d5a6-df1a571846ac"
   },
   "outputs": [
    {
     "name": "stdout",
     "output_type": "stream",
     "text": [
      "Train rmse score: -1.2825796303833867e-05\n",
      "Test rmse score: -0.00016752702774142084\n",
      "Train SSE: 1.3160084066195076e-06\n",
      "Test SSE: 5.613061004774957e-05\n"
     ]
    }
   ],
   "source": [
    "lin_reg = LinearRegression(degree=5,lambda_=None)\n",
    "lin_reg.fit(X,y)\n",
    "lin_reg.score(X_test,y_test)\n",
    "\n",
    "print('Train rmse score:',lin_reg.score(X,y))\n",
    "print('Test rmse score:',lin_reg.score(X_test,y_test))\n",
    "\n",
    "print('Train SSE:',SSE(y,lin_reg.predict(X)))\n",
    "print('Test SSE:',SSE(y_test,lin_reg.predict(X_test)))"
   ]
  },
  {
   "cell_type": "code",
   "execution_count": null,
   "metadata": {
    "id": "XMKD4_pKBJQ4"
   },
   "outputs": [],
   "source": []
  },
  {
   "cell_type": "code",
   "execution_count": null,
   "metadata": {
    "id": "N6XgUyV2BJTw"
   },
   "outputs": [],
   "source": []
  },
  {
   "cell_type": "code",
   "execution_count": null,
   "metadata": {
    "id": "fRRsNLCeBJW7"
   },
   "outputs": [],
   "source": []
  },
  {
   "cell_type": "code",
   "execution_count": null,
   "metadata": {
    "id": "G8sV6jfoBJZw"
   },
   "outputs": [],
   "source": []
  },
  {
   "cell_type": "markdown",
   "metadata": {
    "id": "Q9cDRvI6n9Ez"
   },
   "source": [
    "### Training Linear Regression using gradient decsent with degree=1"
   ]
  },
  {
   "cell_type": "code",
   "execution_count": null,
   "metadata": {
    "colab": {
     "base_uri": "https://localhost:8080/"
    },
    "id": "Qy1u2vIqa0lo",
    "outputId": "c2a45ae4-6675-4239-e495-fb2e4d921c83"
   },
   "outputs": [
    {
     "name": "stdout",
     "output_type": "stream",
     "text": [
      "Epoch 50000 => RMSE=1868.627685546875 - Loss=1745884.75\n"
     ]
    }
   ],
   "source": [
    "lin_reg = SGDRegressor(learning_rate=0.01,epochs=50_000,verbose=1,clipnorm=1,degree=1)\n",
    "losses,mets=lin_reg.fit(X,y)"
   ]
  },
  {
   "cell_type": "code",
   "execution_count": null,
   "metadata": {
    "colab": {
     "base_uri": "https://localhost:8080/",
     "height": 457
    },
    "id": "Oi5YPTmgbLr5",
    "outputId": "e18e1be4-be2c-47d2-a769-0c5f977c99fa"
   },
   "outputs": [
    {
     "name": "stdout",
     "output_type": "stream",
     "text": [
      "Train rmse score: -1868.6277086236612\n",
      "Test rmse score: -3207.133757557765\n",
      "Train SSE: 27934156107.488914\n",
      "Test SSE: 20571413877.733177\n"
     ]
    },
    {
     "data": {
      "image/png": "[encoded data removed]",
      "text/plain": [
       "<Figure size 864x432 with 2 Axes>"
      ]
     },
     "metadata": {
      "needs_background": "light",
      "tags": []
     },
     "output_type": "display_data"
    }
   ],
   "source": [
    "plt.figure(figsize=(12,6))\n",
    "plt.subplot(1,2,1)\n",
    "plt.plot(losses,label='losses')\n",
    "plt.legend()\n",
    "\n",
    "plt.subplot(1,2,2)\n",
    "plt.plot(mets,label='rmse')\n",
    "plt.legend()\n",
    "\n",
    "print('Train rmse score:',lin_reg.score(X,y))\n",
    "print('Test rmse score:',lin_reg.score(X_test,y_test))\n",
    "\n",
    "print('Train SSE:',SSE(y,lin_reg.predict(X)))\n",
    "print('Test SSE:',SSE(y_test,lin_reg.predict(X_test)))"
   ]
  },
  {
   "cell_type": "markdown",
   "metadata": {
    "id": "hk53syT7BrpE"
   },
   "source": [
    "### Training Linear Regression using gradient decsent with degree=3"
   ]
  },
  {
   "cell_type": "code",
   "execution_count": null,
   "metadata": {
    "colab": {
     "base_uri": "https://localhost:8080/"
    },
    "id": "BBESksB-nqrc",
    "outputId": "4b59f387-fd26-4882-c77a-e09bf2db64e2"
   },
   "outputs": [
    {
     "name": "stdout",
     "output_type": "stream",
     "text": [
      "Epoch 50000 => RMSE=17.159727096557617 - Loss=147.2281036376953\n"
     ]
    }
   ],
   "source": [
    "lin_reg = SGDRegressor(learning_rate=0.01,epochs=50_000,verbose=1,clipnorm=1,degree=3)\n",
    "losses,mets=lin_reg.fit(X,y)"
   ]
  },
  {
   "cell_type": "code",
   "execution_count": null,
   "metadata": {
    "colab": {
     "base_uri": "https://localhost:8080/",
     "height": 457
    },
    "id": "IEORZR89nqy1",
    "outputId": "8323de80-8fd6-4a6b-c0d1-a80a7099d81d"
   },
   "outputs": [
    {
     "name": "stdout",
     "output_type": "stream",
     "text": [
      "Train rmse score: -17.15972646348508\n",
      "Test rmse score: -22.803970671288504\n",
      "Train SSE: 2355649.6984130414\n",
      "Test SSE: 1040042.1567539725\n"
     ]
    },
    {
     "data": {
      "image/png": "[encoded data removed]",
      "text/plain": [
       "<Figure size 864x432 with 2 Axes>"
      ]
     },
     "metadata": {
      "needs_background": "light",
      "tags": []
     },
     "output_type": "display_data"
    }
   ],
   "source": [
    "plt.figure(figsize=(12,6))\n",
    "plt.subplot(1,2,1)\n",
    "plt.plot(losses,label='losses')\n",
    "plt.legend()\n",
    "\n",
    "plt.subplot(1,2,2)\n",
    "plt.plot(mets,label='rmse')\n",
    "plt.legend()\n",
    "\n",
    "print('Train rmse score:',lin_reg.score(X,y))\n",
    "print('Test rmse score:',lin_reg.score(X_test,y_test))\n",
    "\n",
    "print('Train SSE:',SSE(y,lin_reg.predict(X)))\n",
    "print('Test SSE:',SSE(y_test,lin_reg.predict(X_test)))"
   ]
  },
  {
   "cell_type": "code",
   "execution_count": null,
   "metadata": {
    "id": "W9N_wM_cnq18"
   },
   "outputs": [],
   "source": []
  },
  {
   "cell_type": "code",
   "execution_count": null,
   "metadata": {
    "id": "M0cPpNnCBwog"
   },
   "outputs": [],
   "source": []
  },
  {
   "cell_type": "markdown",
   "metadata": {
    "id": "lLcu7r8eBws9"
   },
   "source": [
    "### Training Linear Regression using gradient decsent with degree=5"
   ]
  },
  {
   "cell_type": "code",
   "execution_count": null,
   "metadata": {
    "colab": {
     "base_uri": "https://localhost:8080/"
    },
    "id": "rCyCLtg9B18J",
    "outputId": "a85fb118-b248-41e9-acdd-7e4cf4a354eb"
   },
   "outputs": [
    {
     "name": "stdout",
     "output_type": "stream",
     "text": [
      "Epoch 50000 => RMSE=5085.5341796875 - Loss=12931328.0\n"
     ]
    }
   ],
   "source": [
    "lin_reg = SGDRegressor(learning_rate=0.01,epochs=50_000,verbose=1,clipnorm=1,degree=5)\n",
    "losses,mets=lin_reg.fit(X,y)"
   ]
  },
  {
   "cell_type": "code",
   "execution_count": null,
   "metadata": {
    "colab": {
     "base_uri": "https://localhost:8080/",
     "height": 457
    },
    "id": "cbkQB7ByB4hs",
    "outputId": "7786ca9e-1402-4deb-9744-a7303c75d4a4"
   },
   "outputs": [
    {
     "name": "stdout",
     "output_type": "stream",
     "text": [
      "Train rmse score: -5085.534030816636\n",
      "Test rmse score: -9350.328348809537\n",
      "Train SSE: 206901251028.7528\n",
      "Test SSE: 174857280461.10254\n"
     ]
    },
    {
     "data": {
      "image/png": "[encoded data removed]",
      "text/plain": [
       "<Figure size 864x432 with 2 Axes>"
      ]
     },
     "metadata": {
      "needs_background": "light",
      "tags": []
     },
     "output_type": "display_data"
    }
   ],
   "source": [
    "plt.figure(figsize=(12,6))\n",
    "plt.subplot(1,2,1)\n",
    "plt.plot(losses,label='losses')\n",
    "plt.legend()\n",
    "\n",
    "plt.subplot(1,2,2)\n",
    "plt.plot(mets,label='rmse')\n",
    "plt.legend()\n",
    "\n",
    "print('Train rmse score:',lin_reg.score(X,y))\n",
    "print('Test rmse score:',lin_reg.score(X_test,y_test))\n",
    "\n",
    "print('Train SSE:',SSE(y,lin_reg.predict(X)))\n",
    "print('Test SSE:',SSE(y_test,lin_reg.predict(X_test)))"
   ]
  },
  {
   "cell_type": "code",
   "execution_count": null,
   "metadata": {
    "id": "MqTTu9AGB55k"
   },
   "outputs": [],
   "source": []
  },
  {
   "cell_type": "code",
   "execution_count": null,
   "metadata": {
    "id": "QQthGjB2B58e"
   },
   "outputs": [],
   "source": []
  },
  {
   "cell_type": "markdown",
   "metadata": {
    "id": "a6q4yIHNqcSB"
   },
   "source": [
    "### Using Grid search to find best lambda, and learning_rate=1e-2 , degree=1"
   ]
  },
  {
   "cell_type": "code",
   "execution_count": null,
   "metadata": {
    "colab": {
     "base_uri": "https://localhost:8080/"
    },
    "id": "O1uPgoOka29n",
    "outputId": "8a885598-6da5-4089-9daf-df2977ec8bbd"
   },
   "outputs": [
    {
     "name": "stdout",
     "output_type": "stream",
     "text": [
      "{'lambda_': 0.0001} => mean:-1867.8866896024076 -- std:30.864918493418042\n",
      "{'lambda_': 0.001} => mean:-1869.0537944471957 -- std:29.74996958219415\n",
      "{'lambda_': 0.01} => mean:-1868.2841382042625 -- std:32.06248684214018\n",
      "{'lambda_': 0.1} => mean:-1866.6474984053336 -- std:31.717353412035866\n",
      "{'lambda_': None} => mean:-1868.8739387101439 -- std:30.753444555289782\n",
      "{'lambda_': 1} => mean:-1845.6411300443065 -- std:31.755270542970717\n",
      "{'lambda_': 100.0} => mean:-2826.2809609342394 -- std:41.3379064648455\n",
      "{'lambda_': 1000.0} => mean:-3271.2360445229656 -- std:41.98683148906002\n",
      "{'lambda_': 10000.0} => mean:-3371.639183400281 -- std:42.43589845370103\n"
     ]
    }
   ],
   "source": [
    "param_grid = {'lambda_':[1e-4,1e-3,1e-2,1e-1,None,1,1e2,1e3,1e4]}\n",
    "clf_params = {'epochs':50_000,'learning_rate':1e-2,'verbose':0,'clipnorm':1,'degree':1}\n",
    "\n",
    "grid_search = GridSearch(SGDRegressor,cv=5,n_jobs=-1,param_grid=param_grid,clf_params=clf_params)\n",
    "best,best_mean_score=grid_search.fit(X,y)"
   ]
  },
  {
   "cell_type": "code",
   "execution_count": null,
   "metadata": {
    "colab": {
     "base_uri": "https://localhost:8080/"
    },
    "id": "J2gjGUKda-Pr",
    "outputId": "fa80c6f0-a458-4540-9f74-7fc1bd9b8313"
   },
   "outputs": [
    {
     "data": {
      "text/plain": [
       "({'best_mean_score': -1845.6411300443065,\n",
       "  'lambda_': 1,\n",
       "  'scores': [-1888.69219927294,\n",
       "   -1796.5512960653002,\n",
       "   -1867.9504159854653,\n",
       "   -1846.128818635736,\n",
       "   -1828.8829202620911]},\n",
       " -1845.6411300443065)"
      ]
     },
     "execution_count": 23,
     "metadata": {
      "tags": []
     },
     "output_type": "execute_result"
    }
   ],
   "source": [
    "best,best_mean_score"
   ]
  },
  {
   "cell_type": "code",
   "execution_count": null,
   "metadata": {
    "colab": {
     "base_uri": "https://localhost:8080/"
    },
    "id": "az2JqmSLDW-E",
    "outputId": "e61642a5-9d60-4afe-e29a-f9b92ecbcf8c"
   },
   "outputs": [
    {
     "name": "stdout",
     "output_type": "stream",
     "text": [
      "Epoch 50000 => RMSE=1845.4281005859375 - Loss=1702802.5\n"
     ]
    }
   ],
   "source": [
    "lin_reg = SGDRegressor(learning_rate=1e-2,lambda_=best['lambda_'],\n",
    "                       epochs=50_000,degree=1,verbose=1,clipnorm=1.)\n",
    "losses,mets=lin_reg.fit(X,y)"
   ]
  },
  {
   "cell_type": "code",
   "execution_count": null,
   "metadata": {
    "colab": {
     "base_uri": "https://localhost:8080/",
     "height": 457
    },
    "id": "pZg8f2dGiWNN",
    "outputId": "99081436-b482-4bab-b8e3-2627d438bf3b"
   },
   "outputs": [
    {
     "name": "stdout",
     "output_type": "stream",
     "text": [
      "Train rmse score: -1845.428115329106\n",
      "Test rmse score: -3194.425555506342\n",
      "Train SSE: 27244839430.777092\n",
      "Test SSE: 20408709259.344\n"
     ]
    },
    {
     "data": {
      "image/png": "[encoded data removed]",
      "text/plain": [
       "<Figure size 864x432 with 2 Axes>"
      ]
     },
     "metadata": {
      "needs_background": "light",
      "tags": []
     },
     "output_type": "display_data"
    }
   ],
   "source": [
    "plt.figure(figsize=(12,6))\n",
    "plt.subplot(1,2,1)\n",
    "plt.plot(losses,label='losses')\n",
    "plt.legend()\n",
    "\n",
    "plt.subplot(1,2,2)\n",
    "plt.plot(mets,label='rmse')\n",
    "plt.legend()\n",
    "\n",
    "print('Train rmse score:',lin_reg.score(X,y))\n",
    "print('Test rmse score:',lin_reg.score(X_test,y_test))\n",
    "\n",
    "print('Train SSE:',SSE(y,lin_reg.predict(X)))\n",
    "print('Test SSE:',SSE(y_test,lin_reg.predict(X_test)))"
   ]
  },
  {
   "cell_type": "code",
   "execution_count": null,
   "metadata": {
    "id": "oO0ShLCVCyV7"
   },
   "outputs": [],
   "source": []
  },
  {
   "cell_type": "code",
   "execution_count": null,
   "metadata": {
    "id": "VO_wgZSfigWf"
   },
   "outputs": [],
   "source": []
  },
  {
   "cell_type": "markdown",
   "metadata": {
    "id": "3V5G0OCHCyvZ"
   },
   "source": [
    "### Using Grid search to find best lambda, and learning_rate , degree=3"
   ]
  },
  {
   "cell_type": "code",
   "execution_count": null,
   "metadata": {
    "colab": {
     "base_uri": "https://localhost:8080/"
    },
    "id": "JeCMTQnUC12v",
    "outputId": "50cde5e8-2784-42eb-a37b-f8a5dcfcd2db"
   },
   "outputs": [
    {
     "name": "stdout",
     "output_type": "stream",
     "text": [
      "{'lambda_': 0.0001} => mean:-17.44197809258511 -- std:0.40409358755937663\n",
      "{'lambda_': 0.001} => mean:-17.272633833910724 -- std:0.5213558392449833\n",
      "{'lambda_': 0.01} => mean:-17.580758889624143 -- std:0.6739409124986038\n",
      "{'lambda_': 0.1} => mean:-16.8857391509424 -- std:0.28083230179970414\n",
      "{'lambda_': None} => mean:-17.502190546178138 -- std:1.032440842596123\n",
      "{'lambda_': 1} => mean:-17.48084553445109 -- std:1.060624132935097\n",
      "{'lambda_': 100.0} => mean:-18.517646063406453 -- std:0.6185551664044969\n",
      "{'lambda_': 1000.0} => mean:-38.6865085063152 -- std:1.388785615974543\n",
      "{'lambda_': 10000.0} => mean:-119.18487512794582 -- std:3.718503215587899\n"
     ]
    }
   ],
   "source": [
    "param_grid = {'lambda_':[1e-4,1e-3,1e-2,1e-1,None,1,1e2,1e3,1e4]}\n",
    "clf_params = {'epochs':50_000,'learning_rate':1e-2,'verbose':0,'clipnorm':1,'degree':3}\n",
    "\n",
    "grid_search = GridSearch(SGDRegressor,cv=5,n_jobs=-1,param_grid=param_grid,clf_params=clf_params)\n",
    "best,best_mean_score=grid_search.fit(X,y)"
   ]
  },
  {
   "cell_type": "code",
   "execution_count": null,
   "metadata": {
    "colab": {
     "base_uri": "https://localhost:8080/"
    },
    "id": "0reMwR0OC430",
    "outputId": "1a628809-48da-4b81-c3fe-09bfa4ef3d9d"
   },
   "outputs": [
    {
     "data": {
      "text/plain": [
       "({'best_mean_score': -16.8857391509424,\n",
       "  'lambda_': 0.1,\n",
       "  'scores': [-16.562333898451858,\n",
       "   -17.17781418571574,\n",
       "   -17.18164969017655,\n",
       "   -16.955773858770844,\n",
       "   -16.551124121597002]},\n",
       " -16.8857391509424)"
      ]
     },
     "execution_count": 27,
     "metadata": {
      "tags": []
     },
     "output_type": "execute_result"
    }
   ],
   "source": [
    "best,best_mean_score"
   ]
  },
  {
   "cell_type": "code",
   "execution_count": null,
   "metadata": {
    "colab": {
     "base_uri": "https://localhost:8080/"
    },
    "id": "c3o5bPIbC6m8",
    "outputId": "a4a05c61-36fc-4525-f670-451d91e4c457"
   },
   "outputs": [
    {
     "name": "stdout",
     "output_type": "stream",
     "text": [
      "Epoch 50000 => RMSE=16.811494827270508 - Loss=141.3131866455078\n"
     ]
    }
   ],
   "source": [
    "lin_reg = SGDRegressor(learning_rate=1e-2,lambda_=best['lambda_'],\n",
    "                       epochs=50_000,degree=3,verbose=1,clipnorm=1.)\n",
    "losses,mets=lin_reg.fit(X,y)"
   ]
  },
  {
   "cell_type": "code",
   "execution_count": null,
   "metadata": {
    "colab": {
     "base_uri": "https://localhost:8080/",
     "height": 457
    },
    "id": "cIKRZSVFC_8r",
    "outputId": "74ef5273-6eb5-4083-bab8-1fb2c3c2d8e7"
   },
   "outputs": [
    {
     "name": "stdout",
     "output_type": "stream",
     "text": [
      "Train rmse score: -16.81149545147725\n",
      "Test rmse score: -23.809498155432088\n",
      "Train SSE: 2261011.0345203215\n",
      "Test SSE: 1133784.404827048\n"
     ]
    },
    {
     "data": {
      "image/png": "[encoded data removed]",
      "text/plain": [
       "<Figure size 864x432 with 2 Axes>"
      ]
     },
     "metadata": {
      "needs_background": "light",
      "tags": []
     },
     "output_type": "display_data"
    }
   ],
   "source": [
    "plt.figure(figsize=(12,6))\n",
    "plt.subplot(1,2,1)\n",
    "plt.plot(losses,label='losses')\n",
    "plt.legend()\n",
    "\n",
    "plt.subplot(1,2,2)\n",
    "plt.plot(mets,label='rmse')\n",
    "plt.legend()\n",
    "\n",
    "print('Train rmse score:',lin_reg.score(X,y))\n",
    "print('Test rmse score:',lin_reg.score(X_test,y_test))\n",
    "\n",
    "print('Train SSE:',SSE(y,lin_reg.predict(X)))\n",
    "print('Test SSE:',SSE(y_test,lin_reg.predict(X_test)))"
   ]
  },
  {
   "cell_type": "code",
   "execution_count": null,
   "metadata": {
    "id": "nEK7oS0xDhwi"
   },
   "outputs": [],
   "source": []
  },
  {
   "cell_type": "markdown",
   "metadata": {
    "id": "kFe5a9lGDjj6"
   },
   "source": [
    "### Using Grid search to find best lambda, and learning_rate , degree=5"
   ]
  },
  {
   "cell_type": "code",
   "execution_count": null,
   "metadata": {
    "colab": {
     "base_uri": "https://localhost:8080/"
    },
    "id": "MF0WiWVxDkPh",
    "outputId": "90e21526-96f3-4847-ca14-b40e0f0e0dd5"
   },
   "outputs": [
    {
     "name": "stdout",
     "output_type": "stream",
     "text": [
      "{'lambda_': 0.0001, 'learning_rate': 1e-06} => mean:-147168.28983927425 -- std:103550.79425868552\n",
      "{'lambda_': 0.0001, 'learning_rate': 1e-05} => mean:-2425.865101585743 -- std:1397.5894961448632\n",
      "{'lambda_': 0.0001, 'learning_rate': 0.0001} => mean:-438.00736042656246 -- std:127.37157868866757\n",
      "{'lambda_': 0.0001, 'learning_rate': 0.001} => mean:-754.260512377304 -- std:73.62886307006545\n",
      "{'lambda_': 0.0001, 'learning_rate': 0.01} => mean:-4490.024457073358 -- std:752.9448644638527\n",
      "{'lambda_': 0.001, 'learning_rate': 1e-06} => mean:-112787.09130081639 -- std:96643.08627705387\n",
      "{'lambda_': 0.001, 'learning_rate': 1e-05} => mean:-6037.392343951633 -- std:4015.705715588296\n",
      "{'lambda_': 0.001, 'learning_rate': 0.0001} => mean:-534.0846827474676 -- std:141.3678001322585\n",
      "{'lambda_': 0.001, 'learning_rate': 0.001} => mean:-699.4685060137369 -- std:122.95059132031311\n",
      "{'lambda_': 0.001, 'learning_rate': 0.01} => mean:-5146.319381712647 -- std:99.31901461240975\n",
      "{'lambda_': 0.01, 'learning_rate': 1e-06} => mean:-54147.9823786748 -- std:40420.492429754486\n",
      "{'lambda_': 0.01, 'learning_rate': 1e-05} => mean:-11572.981073637657 -- std:11742.143305903097\n",
      "{'lambda_': 0.01, 'learning_rate': 0.0001} => mean:-436.84438301925076 -- std:157.24626836299444\n",
      "{'lambda_': 0.01, 'learning_rate': 0.001} => mean:-675.8669078332997 -- std:43.39513785130137\n",
      "{'lambda_': 0.01, 'learning_rate': 0.01} => mean:-5072.070173677088 -- std:169.48339913103183\n",
      "{'lambda_': 0.1, 'learning_rate': 1e-06} => mean:-106994.20809120809 -- std:92586.04577550589\n",
      "{'lambda_': 0.1, 'learning_rate': 1e-05} => mean:-6118.445963410748 -- std:4700.573127797965\n",
      "{'lambda_': 0.1, 'learning_rate': 0.0001} => mean:-474.5130478943305 -- std:194.09915915012903\n",
      "{'lambda_': 0.1, 'learning_rate': 0.001} => mean:-733.1377519437949 -- std:88.40588027565468\n",
      "{'lambda_': 0.1, 'learning_rate': 0.01} => mean:-5109.080642602445 -- std:161.37508859605074\n",
      "{'lambda_': None, 'learning_rate': 1e-06} => mean:-182970.33562404133 -- std:110429.31864445275\n",
      "{'lambda_': None, 'learning_rate': 1e-05} => mean:-1347.5488757406492 -- std:554.3770090620817\n",
      "{'lambda_': None, 'learning_rate': 0.0001} => mean:-428.39157598850124 -- std:67.46164549609747\n",
      "{'lambda_': None, 'learning_rate': 0.001} => mean:-795.7660183831551 -- std:106.145190572143\n",
      "{'lambda_': None, 'learning_rate': 0.01} => mean:-5455.4174504645 -- std:810.9426256474535\n",
      "{'lambda_': 1, 'learning_rate': 1e-06} => mean:-220898.66075317407 -- std:88004.52663292634\n",
      "{'lambda_': 1, 'learning_rate': 1e-05} => mean:-8822.428771882967 -- std:9462.250750010166\n",
      "{'lambda_': 1, 'learning_rate': 0.0001} => mean:-709.611427296057 -- std:270.9661935840063\n",
      "{'lambda_': 1, 'learning_rate': 0.001} => mean:-812.9796948435801 -- std:113.6201078492226\n",
      "{'lambda_': 1, 'learning_rate': 0.01} => mean:-5330.145641922766 -- std:1219.0987433930243\n",
      "{'lambda_': 100.0, 'learning_rate': 1e-06} => mean:-77445.7089940288 -- std:50618.02657365526\n",
      "{'lambda_': 100.0, 'learning_rate': 1e-05} => mean:-2402.709608744059 -- std:2955.0206289393873\n",
      "{'lambda_': 100.0, 'learning_rate': 0.0001} => mean:-501.3720397437725 -- std:153.3761516973253\n",
      "{'lambda_': 100.0, 'learning_rate': 0.001} => mean:-698.7750332011806 -- std:47.68982863853786\n",
      "{'lambda_': 100.0, 'learning_rate': 0.01} => mean:-5401.916042627849 -- std:731.5547308017842\n",
      "{'lambda_': 1000.0, 'learning_rate': 1e-06} => mean:-98673.70984872463 -- std:66478.32240995679\n",
      "{'lambda_': 1000.0, 'learning_rate': 1e-05} => mean:-7904.456407694944 -- std:6883.00417934103\n",
      "{'lambda_': 1000.0, 'learning_rate': 0.0001} => mean:-512.9162756543543 -- std:169.59620662378052\n",
      "{'lambda_': 1000.0, 'learning_rate': 0.001} => mean:-632.6597112054321 -- std:53.51160720658184\n",
      "{'lambda_': 1000.0, 'learning_rate': 0.01} => mean:-5067.867809328964 -- std:172.3027628441974\n",
      "{'lambda_': 10000.0, 'learning_rate': 1e-06} => mean:-86044.59072541588 -- std:41767.34138650593\n",
      "{'lambda_': 10000.0, 'learning_rate': 1e-05} => mean:-11989.890704884634 -- std:5726.8435075919415\n",
      "{'lambda_': 10000.0, 'learning_rate': 0.0001} => mean:-485.2453327849092 -- std:168.99952668022257\n",
      "{'lambda_': 10000.0, 'learning_rate': 0.001} => mean:-816.9358414989105 -- std:98.63989720730129\n",
      "{'lambda_': 10000.0, 'learning_rate': 0.01} => mean:-5199.978038312924 -- std:311.67069656084044\n"
     ]
    }
   ],
   "source": [
    "param_grid = {'lambda_':[1e-4,1e-3,1e-2,1e-1,None,1,1e2,1e3,1e4],'learning_rate':[1e-6,1e-5,1e-4,1e-3,1e-2,]}\n",
    "clf_params = {'epochs':50_000,'verbose':0,'clipnorm':1,'degree':5}\n",
    "\n",
    "grid_search = GridSearch(SGDRegressor,cv=5,n_jobs=-1,param_grid=param_grid,clf_params=clf_params)\n",
    "best,best_mean_score=grid_search.fit(X,y)"
   ]
  },
  {
   "cell_type": "code",
   "execution_count": null,
   "metadata": {
    "colab": {
     "base_uri": "https://localhost:8080/"
    },
    "id": "i5gVxBYTDmqs",
    "outputId": "8ab5bf5f-e81c-410d-ea16-5026a6035e63"
   },
   "outputs": [
    {
     "data": {
      "text/plain": [
       "({'best_mean_score': -428.39157598850124,\n",
       "  'lambda_': None,\n",
       "  'learning_rate': 0.0001,\n",
       "  'scores': [-337.71107398011884,\n",
       "   -492.36269997899274,\n",
       "   -384.8742685952846,\n",
       "   -408.3666370676046,\n",
       "   -518.6432003205055]},\n",
       " -428.39157598850124)"
      ]
     },
     "execution_count": 31,
     "metadata": {
      "tags": []
     },
     "output_type": "execute_result"
    }
   ],
   "source": [
    "best,best_mean_score"
   ]
  },
  {
   "cell_type": "code",
   "execution_count": null,
   "metadata": {
    "colab": {
     "base_uri": "https://localhost:8080/"
    },
    "id": "ZUG043NaD0U4",
    "outputId": "7e0fc99d-acc0-464f-e8c5-9f425521b3e8"
   },
   "outputs": [
    {
     "name": "stdout",
     "output_type": "stream",
     "text": [
      "Epoch 50000 => RMSE=679.3653564453125 - Loss=230768.625\n"
     ]
    }
   ],
   "source": [
    "lin_reg = SGDRegressor(learning_rate=best['learning_rate'],lambda_=best['lambda_'],\n",
    "                       epochs=50_000,degree=5,verbose=1,clipnorm=1.)\n",
    "losses,mets=lin_reg.fit(X,y)"
   ]
  },
  {
   "cell_type": "code",
   "execution_count": null,
   "metadata": {
    "colab": {
     "base_uri": "https://localhost:8080/"
    },
    "id": "PwrgriVxDo4F",
    "outputId": "c2db5571-bcf6-4c97-e5f2-daecebc1b8c9"
   },
   "outputs": [
    {
     "name": "stdout",
     "output_type": "stream",
     "text": [
      "Train rmse score: -679.3653263432005\n",
      "Test rmse score: -2149.1433044794344\n",
      "Train SSE: 3692297973.099227\n",
      "Test SSE: 9237633886.377565\n"
     ]
    },
    {
     "data": {
      "image/png": "[encoded data removed]",
      "text/plain": [
       "<Figure size 864x432 with 2 Axes>"
      ]
     },
     "metadata": {
      "needs_background": "light",
      "tags": []
     },
     "output_type": "display_data"
    }
   ],
   "source": [
    "plt.figure(figsize=(12,6))\n",
    "plt.subplot(1,2,1)\n",
    "plt.plot(losses,label='losses')\n",
    "plt.legend()\n",
    "\n",
    "plt.subplot(1,2,2)\n",
    "plt.plot(mets,label='rmse')\n",
    "plt.legend()\n",
    "\n",
    "print('Train rmse score:',lin_reg.score(X,y))\n",
    "print('Test rmse score:',lin_reg.score(X_test,y_test))\n",
    "\n",
    "print('Train SSE:',SSE(y,lin_reg.predict(X)))\n",
    "print('Test SSE:',SSE(y_test,lin_reg.predict(X_test)))"
   ]
  },
  {
   "cell_type": "code",
   "execution_count": null,
   "metadata": {
    "id": "FE4Rl9EzQlyS"
   },
   "outputs": [],
   "source": []
  }
 ],
 "metadata": {
  "colab": {
   "collapsed_sections": [],
   "name": "رونوشت P2.ipynb",
   "provenance": []
  },
  "kernelspec": {
   "display_name": "Python 3",
   "language": "python",
   "name": "python3"
  },
  "language_info": {
   "codemirror_mode": {
    "name": "ipython",
    "version": 3
   },
   "file_extension": ".py",
   "mimetype": "text/x-python",
   "name": "python",
   "nbconvert_exporter": "python",
   "pygments_lexer": "ipython3",
   "version": "3.8.5"
  }
 },
 "nbformat": 4,
 "nbformat_minor": 4
}
