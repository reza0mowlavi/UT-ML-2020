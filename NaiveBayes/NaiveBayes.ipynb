{
 "cells": [
  {
   "cell_type": "code",
   "execution_count": 1,
   "id": "armed-renewal",
   "metadata": {},
   "outputs": [],
   "source": [
    "import numpy as np\n",
    "import matplotlib.pyplot as plt\n",
    "import pandas as pd"
   ]
  },
  {
   "cell_type": "code",
   "execution_count": 2,
   "id": "referenced-variation",
   "metadata": {},
   "outputs": [],
   "source": [
    "from naive_bayes import NaiveBayes\n",
    "from naive_bayes import StratifiedShuffleSplit"
   ]
  },
  {
   "cell_type": "markdown",
   "id": "controlling-cameroon",
   "metadata": {},
   "source": [
    "#### Load Data\n",
    "Divide dataset to 2 sets:\n",
    "1. Train Set: 0.7 of orginal dataset\n",
    "2. Test Set: 0.3 of orginal dataset"
   ]
  },
  {
   "cell_type": "code",
   "execution_count": 3,
   "id": "lucky-wholesale",
   "metadata": {},
   "outputs": [
    {
     "name": "stdout",
     "output_type": "stream",
     "text": [
      "X_train.shape: (22794, 14) -- y_train.shape: (22794,)\n",
      "X_test.shape: (9767, 14) -- y_test.shape: (9767,)\n"
     ]
    }
   ],
   "source": [
    "def load_data(filepath):\n",
    "    cols = ['Age','WorkClass','FinancialWeight','Education',\n",
    "           'Education-num','MaritalStatus','Occupation','Relationship',\n",
    "           'Race','Sex','CapitalGain','CapitalLoss','HourPerWeek',\n",
    "           'NativeCountry','Income']\n",
    "    data = pd.read_csv(filepath,header=None,names=cols)\n",
    "    data.head()\n",
    "    \n",
    "    X = data.iloc[:,:-1]\n",
    "    y = data.iloc[:,-1]\n",
    "    X = np.array(X)\n",
    "    y = np.where(y==' <=50K',0,1).astype('int64')\n",
    "    \n",
    "    split = StratifiedShuffleSplit(test_size=0.3,shuffle=True)\n",
    "    (X_train,y_train),(X_test,y_test) = split.split(X,y)\n",
    "    return data,(X_train,y_train),(X_test,y_test)\n",
    "\n",
    "data,(X_train,y_train),(X_test,y_test) = load_data('Data.csv')\n",
    "print(f'X_train.shape: {X_train.shape} -- y_train.shape: {y_train.shape}')\n",
    "print(f'X_test.shape: {X_test.shape} -- y_test.shape: {y_test.shape}')"
   ]
  },
  {
   "cell_type": "markdown",
   "id": "mighty-mambo",
   "metadata": {},
   "source": [
    "#### Assume all features come from Independent MultiNomial dist."
   ]
  },
  {
   "cell_type": "code",
   "execution_count": 4,
   "id": "precise-lawsuit",
   "metadata": {},
   "outputs": [
    {
     "name": "stdout",
     "output_type": "stream",
     "text": [
      "Train Acc:0.8180661577608143 -- Test Acc:0.8200061431350466\n"
     ]
    }
   ],
   "source": [
    "model = NaiveBayes('multinomial')\n",
    "model.fit(X_train,y_train)\n",
    "print(f'Train Acc:{model.score(X_train,y_train)} -- Test Acc:{model.score(X_test,y_test)}')"
   ]
  },
  {
   "cell_type": "markdown",
   "id": "numerous-spirit",
   "metadata": {},
   "source": [
    "#### Assume all Numeric features come from Independent Gaussian dist and remaining features come from Independent MultiNomial dist."
   ]
  },
  {
   "cell_type": "code",
   "execution_count": 5,
   "id": "equivalent-uncle",
   "metadata": {},
   "outputs": [],
   "source": [
    "dists1 = ['gaussian','multinomial','gaussian','multinomial',\n",
    "        'gaussian','multinomial','multinomial','multinomial',\n",
    "        'multinomial','multinomial','gaussian','gaussian','gaussian',\n",
    "        'multinomial']"
   ]
  },
  {
   "cell_type": "code",
   "execution_count": 6,
   "id": "systematic-makeup",
   "metadata": {},
   "outputs": [
    {
     "name": "stdout",
     "output_type": "stream",
     "text": [
      "Train Acc:0.7951653944020356 -- Test Acc:0.7966622299580219\n"
     ]
    }
   ],
   "source": [
    "model = NaiveBayes(dists1)\n",
    "model.fit(X_train,y_train)\n",
    "print(f'Train Acc:{model.score(X_train,y_train)} -- Test Acc:{model.score(X_test,y_test)}')"
   ]
  },
  {
   "cell_type": "code",
   "execution_count": null,
   "id": "employed-irish",
   "metadata": {},
   "outputs": [],
   "source": []
  }
 ],
 "metadata": {
  "kernelspec": {
   "display_name": "Python 3",
   "language": "python",
   "name": "python3"
  },
  "language_info": {
   "codemirror_mode": {
    "name": "ipython",
    "version": 3
   },
   "file_extension": ".py",
   "mimetype": "text/x-python",
   "name": "python",
   "nbconvert_exporter": "python",
   "pygments_lexer": "ipython3",
   "version": "3.8.8"
  }
 },
 "nbformat": 4,
 "nbformat_minor": 5
}
