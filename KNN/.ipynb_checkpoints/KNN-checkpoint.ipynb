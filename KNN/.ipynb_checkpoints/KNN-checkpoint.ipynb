{
 "cells": [
  {
   "cell_type": "code",
   "execution_count": 1,
   "metadata": {
    "colab": {
     "base_uri": "https://localhost:8080/"
    },
    "id": "v0d9ikDhCC1N",
    "outputId": "9012df4b-cd1c-4a28-e1c1-080c2b31b771"
   },
   "outputs": [
    {
     "name": "stdout",
     "output_type": "stream",
     "text": [
      "Archive:  knn.zip\n",
      "   creating: knn/\n",
      "  inflating: knn/__init__.py         \n",
      "   creating: knn/__pycache__/\n",
      "  inflating: knn/__pycache__/__init__.cpython-38.pyc  \n",
      "  inflating: knn/__pycache__/knn.cpython-38.pyc  \n",
      "  inflating: knn/grid_search.py      \n",
      "  inflating: knn/knn.py              \n"
     ]
    }
   ],
   "source": [
    "!unzip knn.zip"
   ]
  },
  {
   "cell_type": "code",
   "execution_count": 2,
   "metadata": {
    "id": "ex8PtMVOBaTc"
   },
   "outputs": [],
   "source": [
    "import numpy as np\n",
    "import matplotlib.pyplot as plt\n",
    "import seaborn as sns\n",
    "\n",
    "from sklearn.datasets import fetch_openml\n",
    "from sklearn.model_selection import StratifiedShuffleSplit\n",
    "\n",
    "from knn import KNNClassifier\n",
    "from knn import GridSearch"
   ]
  },
  {
   "cell_type": "code",
   "execution_count": 3,
   "metadata": {
    "id": "QvY8i1u5eSt9"
   },
   "outputs": [],
   "source": [
    "np.random.seed(1997)"
   ]
  },
  {
   "cell_type": "markdown",
   "metadata": {
    "id": "8xDQMJgDOn6T"
   },
   "source": [
    "## Download Data from open_ml"
   ]
  },
  {
   "cell_type": "code",
   "execution_count": 4,
   "metadata": {
    "colab": {
     "base_uri": "https://localhost:8080/"
    },
    "id": "R8lh-_u3CYX2",
    "outputId": "43db6d56-3f67-49c9-ed1c-c6719bd754ff"
   },
   "outputs": [
    {
     "name": "stdout",
     "output_type": "stream",
     "text": [
      "X_train.shape= (8000, 784) -- y_train.shape = (8000,)\n",
      "X_test.shape= (2000, 784) -- y_test.shape = (2000,)\n"
     ]
    }
   ],
   "source": [
    "def get_data():\n",
    "    mnist = fetch_openml('mnist_784',)\n",
    "    mnist.keys()\n",
    "    X = mnist['data']\n",
    "    y = mnist['target']\n",
    "    X = X.astype('float32')\n",
    "    y = y.astype('float32')\n",
    "    split = StratifiedShuffleSplit(n_splits=1,test_size=2000,train_size=8000)\n",
    "    for train_index,test_index in split.split(X,y):\n",
    "      X_test,y_test = X[test_index],y[test_index]\n",
    "      X_train,y_train = X[train_index],y[train_index]\n",
    "    return (X_train,y_train),(X_test,y_test)\n",
    "\n",
    "(X_train,y_train),(X_test,y_test) = get_data()\n",
    "print(f'X_train.shape= {X_train.shape} -- y_train.shape = {y_train.shape}')\n",
    "print(f'X_test.shape= {X_test.shape} -- y_test.shape = {y_test.shape}')"
   ]
  },
  {
   "cell_type": "markdown",
   "metadata": {
    "id": "UWvjhWjHiSn0"
   },
   "source": [
    "### We check if data is balanced"
   ]
  },
  {
   "cell_type": "code",
   "execution_count": 5,
   "metadata": {
    "colab": {
     "base_uri": "https://localhost:8080/"
    },
    "id": "04GEbtM8hsDf",
    "outputId": "41323943-5b2e-46f7-ed9b-d60a6f19395f"
   },
   "outputs": [
    {
     "name": "stdout",
     "output_type": "stream",
     "text": [
      "Training data:\n",
      "#0=789 - #1=900 - #2=799 - #3=816 - #4=780 - #5=722 - #6=786 - #7=833 - #8=780 - #9=795 - \n",
      "\n",
      "Test data:\n",
      "#0=197 - #1=225 - #2=200 - #3=204 - #4=195 - #5=180 - #6=197 - #7=208 - #8=195 - #9=199 - \n"
     ]
    }
   ],
   "source": [
    "print('Training data:')\n",
    "for y in np.unique(y_train):\n",
    "  print(f'#{int(y)}={np.sum(y_train==y)} - ',end='')\n",
    "print()\n",
    "\n",
    "print()\n",
    "\n",
    "print('Test data:')\n",
    "for y in np.unique(y_test):\n",
    "  print(f'#{int(y)}={np.sum(y_test==y)} - ',end='')\n",
    "print()\n"
   ]
  },
  {
   "cell_type": "code",
   "execution_count": 6,
   "metadata": {
    "colab": {
     "base_uri": "https://localhost:8080/",
     "height": 374
    },
    "id": "FUhl7YT4ZWz-",
    "outputId": "f4faccf1-41fa-477b-c602-613477621338"
   },
   "outputs": [
    {
     "data": {
      "image/png": "[encoded data removed]",
      "text/plain": [
       "<Figure size 864x432 with 2 Axes>"
      ]
     },
     "metadata": {
      "needs_background": "light",
      "tags": []
     },
     "output_type": "display_data"
    }
   ],
   "source": [
    "plt.figure(figsize=(12,6))\n",
    "\n",
    "plt.subplot(1,2,1)\n",
    "sns.countplot(x=y_train,label='Train Set')\n",
    "plt.legend()\n",
    "\n",
    "plt.subplot(1,2,2)\n",
    "sns.countplot(x=y_test,label='Test Set')\n",
    "plt.legend()\n",
    "\n",
    "plt.savefig('data.png')"
   ]
  },
  {
   "cell_type": "markdown",
   "metadata": {
    "id": "XZxvXNAOOxTL"
   },
   "source": [
    "## Normalize Data"
   ]
  },
  {
   "cell_type": "code",
   "execution_count": 7,
   "metadata": {
    "id": "uUeZC2q6OwP_"
   },
   "outputs": [],
   "source": [
    "X_train = X_train/255.\n",
    "X_test = X_test/255."
   ]
  },
  {
   "cell_type": "markdown",
   "metadata": {
    "id": "TTSYqi7hl3LV"
   },
   "source": [
    "#### See some samples of mnist"
   ]
  },
  {
   "cell_type": "code",
   "execution_count": 8,
   "metadata": {
    "colab": {
     "base_uri": "https://localhost:8080/",
     "height": 212
    },
    "id": "27g_s9p5l2n5",
    "outputId": "f9c1c9e3-48b3-4134-89b4-ca9b0d5ef606"
   },
   "outputs": [
    {
     "data": {
      "image/png": "[encoded data removed]",
      "text/plain": [
       "<Figure size 648x648 with 3 Axes>"
      ]
     },
     "metadata": {
      "needs_background": "light",
      "tags": []
     },
     "output_type": "display_data"
    }
   ],
   "source": [
    "plt.figure(figsize=(9,9))\n",
    "plt.subplot(1,3,1)\n",
    "plt.title(int(y_train[0]))\n",
    "plt.imshow(X_train[0].reshape(28,28),cmap='gray')\n",
    "\n",
    "plt.subplot(1,3,2)\n",
    "plt.title(int(y_train[1]))\n",
    "plt.imshow(X_train[1].reshape(28,28),cmap='gray')\n",
    "\n",
    "plt.subplot(1,3,3)\n",
    "plt.title(int(y_train[2]))\n",
    "plt.imshow(X_train[2].reshape(28,28),cmap='gray')\n",
    "\n",
    "plt.savefig('exam.png')"
   ]
  },
  {
   "cell_type": "markdown",
   "metadata": {
    "id": "cEN9eO3bO_Er"
   },
   "source": [
    "## Using 5-Cross Validation to find best k"
   ]
  },
  {
   "cell_type": "code",
   "execution_count": 9,
   "metadata": {
    "colab": {
     "base_uri": "https://localhost:8080/"
    },
    "id": "HIGpoSZfPSyw",
    "outputId": "06750e10-faa3-4bf0-ec2a-d2ce9e12ac75"
   },
   "outputs": [
    {
     "name": "stdout",
     "output_type": "stream",
     "text": [
      "{'n_neighbors': 1} => mean:0.937125 -- std:0.00517807879430199\n",
      "{'n_neighbors': 2} => mean:0.9225000000000001 -- std:0.006800735254367704\n",
      "{'n_neighbors': 4} => mean:0.93675 -- std:0.005497158356824007\n",
      "{'n_neighbors': 5} => mean:0.9380000000000001 -- std:0.00580140069293614\n",
      "{'n_neighbors': 16} => mean:0.9257500000000001 -- std:0.004799088455113093\n",
      "{'n_neighbors': 32} => mean:0.913375 -- std:0.0056263887174634415\n"
     ]
    }
   ],
   "source": [
    "param_grid = {'n_neighbors':[1,2,4,5,16,32]}\n",
    "clf_params = {'weights':'uniform'}\n",
    "\n",
    "grid_search = GridSearch(KNNClassifier,cv=5,param_grid=param_grid,\n",
    "                         clf_params=clf_params,n_jobs=-1)\n",
    "\n",
    "history = grid_search.fit(X_train,y_train)"
   ]
  },
  {
   "cell_type": "code",
   "execution_count": 10,
   "metadata": {
    "colab": {
     "base_uri": "https://localhost:8080/",
     "height": 405
    },
    "id": "uGtO5PCdQCE5",
    "outputId": "4a0e279b-69c4-45fb-a897-3787aac2f289"
   },
   "outputs": [
    {
     "data": {
      "image/png": "[encoded data removed]",
      "text/plain": [
       "<Figure size 1008x432 with 2 Axes>"
      ]
     },
     "metadata": {
      "needs_background": "light",
      "tags": []
     },
     "output_type": "display_data"
    }
   ],
   "source": [
    "xs = [history[i][0]['n_neighbors'] for i in range(len(history))]\n",
    "mean_scores = [history[i][1] for i in range(len(history))]\n",
    "std_scores = [history[i][2] for i in range(len(history))]\n",
    "\n",
    "plt.figure(figsize=(14,6))\n",
    "plt.subplot(1,2,1)\n",
    "plt.plot(xs,mean_scores,'b--',marker='o',label='$\\mu_{Accuracy}$')\n",
    "plt.xlabel('n_neighbors')\n",
    "plt.ylabel('Accuracy')\n",
    "plt.title('Accuracy')\n",
    "plt.legend()\n",
    "\n",
    "\n",
    "plt.subplot(1,2,2)\n",
    "plt.plot(xs,std_scores,'b--',marker='o',label='$\\sigma_{Accuracy}$')\n",
    "plt.xlabel('n_neighbors')\n",
    "plt.ylabel('STD')\n",
    "plt.title('STD')\n",
    "plt.legend()\n",
    "plt.savefig('Uniform.png')"
   ]
  },
  {
   "cell_type": "markdown",
   "metadata": {
    "id": "g1a_2jh8ajkB"
   },
   "source": [
    "### Now we train model on best n_neighbors and evaluate its accuracy on test set"
   ]
  },
  {
   "cell_type": "code",
   "execution_count": 11,
   "metadata": {
    "colab": {
     "base_uri": "https://localhost:8080/"
    },
    "id": "i8WG6PebaIHT",
    "outputId": "c723e272-9f22-4d97-a121-b5b339f17b2e"
   },
   "outputs": [
    {
     "data": {
      "text/plain": [
       "{'best_mean_score': 0.9380000000000001,\n",
       " 'n_neighbors': 5,\n",
       " 'scores': [0.93125, 0.93625, 0.94, 0.934375, 0.948125]}"
      ]
     },
     "execution_count": 11,
     "metadata": {
      "tags": []
     },
     "output_type": "execute_result"
    }
   ],
   "source": [
    "grid_search.best_"
   ]
  },
  {
   "cell_type": "code",
   "execution_count": 12,
   "metadata": {
    "colab": {
     "base_uri": "https://localhost:8080/"
    },
    "id": "nT5vc5Jdawrl",
    "outputId": "79e826a9-0b0f-404b-a031-171549ec8aa0"
   },
   "outputs": [
    {
     "name": "stdout",
     "output_type": "stream",
     "text": [
      "Train Acc: 0.961375 -- Test Acc: 0.9415\n"
     ]
    }
   ],
   "source": [
    "model = KNNClassifier(n_neighbors=grid_search.best_['n_neighbors'],weights='uniform')\n",
    "model.fit(X_train,y_train)\n",
    "\n",
    "print(f'Train Acc: {model.score(X_train,y_train)} -- Test Acc: {model.score(X_test,y_test)}')"
   ]
  },
  {
   "cell_type": "code",
   "execution_count": 12,
   "metadata": {
    "id": "DogdgZ-xbaAW"
   },
   "outputs": [],
   "source": []
  },
  {
   "cell_type": "code",
   "execution_count": 12,
   "metadata": {
    "id": "_3ouZBQlbaC3"
   },
   "outputs": [],
   "source": []
  },
  {
   "cell_type": "markdown",
   "metadata": {
    "id": "WLFltwpwbZUa"
   },
   "source": [
    "## Now we use weighted KNN"
   ]
  },
  {
   "cell_type": "code",
   "execution_count": 13,
   "metadata": {
    "colab": {
     "base_uri": "https://localhost:8080/"
    },
    "id": "OjwMvEnBbJBG",
    "outputId": "7b8e8782-f276-4fc5-9c2c-68a943823b57"
   },
   "outputs": [
    {
     "name": "stdout",
     "output_type": "stream",
     "text": [
      "{'n_neighbors': 1} => mean:0.9393750000000001 -- std:0.003468609231377912\n",
      "{'n_neighbors': 2} => mean:0.9393750000000001 -- std:0.003468609231377912\n",
      "{'n_neighbors': 4} => mean:0.945375 -- std:0.004430011286667328\n",
      "{'n_neighbors': 5} => mean:0.9425000000000001 -- std:0.0036228441865473475\n",
      "{'n_neighbors': 16} => mean:0.928875 -- std:0.0052350978978429824\n",
      "{'n_neighbors': 32} => mean:0.915625 -- std:0.0044017042154147375\n"
     ]
    }
   ],
   "source": [
    "param_grid = {'n_neighbors':[1,2,4,5,16,32]}\n",
    "clf_params = {'weights':'distance'}\n",
    "\n",
    "grid_search = GridSearch(KNNClassifier,cv=5,param_grid=param_grid,\n",
    "                         clf_params=clf_params,n_jobs=-1)\n",
    "\n",
    "history = grid_search.fit(X_train,y_train)"
   ]
  },
  {
   "cell_type": "code",
   "execution_count": 14,
   "metadata": {
    "colab": {
     "base_uri": "https://localhost:8080/",
     "height": 405
    },
    "id": "PxQcno_gbild",
    "outputId": "639a03e0-2ded-45cd-8538-d0cb835cb3ae"
   },
   "outputs": [
    {
     "data": {
      "image/png": "[encoded data removed]",
      "text/plain": [
       "<Figure size 1008x432 with 2 Axes>"
      ]
     },
     "metadata": {
      "needs_background": "light",
      "tags": []
     },
     "output_type": "display_data"
    }
   ],
   "source": [
    "xs = [history[i][0]['n_neighbors'] for i in range(len(history))]\n",
    "mean_scores = [history[i][1] for i in range(len(history))]\n",
    "std_scores = [history[i][2] for i in range(len(history))]\n",
    "\n",
    "plt.figure(figsize=(14,6))\n",
    "plt.subplot(1,2,1)\n",
    "plt.plot(xs,mean_scores,'b--',marker='o',label='$\\mu_{Accuracy}$')\n",
    "plt.xlabel('n_neighbors')\n",
    "plt.ylabel('Accuracy')\n",
    "plt.title('Accuracy')\n",
    "plt.legend()\n",
    "\n",
    "\n",
    "plt.subplot(1,2,2)\n",
    "plt.plot(xs,std_scores,'b--',marker='o',label='$\\sigma_{Accuracy}$')\n",
    "plt.xlabel('n_neighbors')\n",
    "plt.ylabel('STD')\n",
    "plt.title('STD')\n",
    "plt.legend()\n",
    "plt.savefig('Distance.png')"
   ]
  },
  {
   "cell_type": "markdown",
   "metadata": {
    "id": "K5t5H1J9dpFO"
   },
   "source": [
    "### Now we train weighted model on best n_neighbors and evaluate its accuracy on test set"
   ]
  },
  {
   "cell_type": "code",
   "execution_count": 15,
   "metadata": {
    "colab": {
     "base_uri": "https://localhost:8080/"
    },
    "id": "R4AXhudBbpvH",
    "outputId": "26e8c2a8-5186-4c66-d287-4d74056764ff"
   },
   "outputs": [
    {
     "data": {
      "text/plain": [
       "{'best_mean_score': 0.945375,\n",
       " 'n_neighbors': 4,\n",
       " 'scores': [0.945625, 0.949375, 0.946875, 0.948125, 0.936875]}"
      ]
     },
     "execution_count": 15,
     "metadata": {
      "tags": []
     },
     "output_type": "execute_result"
    }
   ],
   "source": [
    "grid_search.best_"
   ]
  },
  {
   "cell_type": "code",
   "execution_count": 16,
   "metadata": {
    "colab": {
     "base_uri": "https://localhost:8080/"
    },
    "id": "gab6lH84buo4",
    "outputId": "b41c1b76-2f9f-46a5-d7bf-8c634c5edc92"
   },
   "outputs": [
    {
     "name": "stdout",
     "output_type": "stream",
     "text": [
      "Train Acc: 1.0 -- Test Acc: 0.944\n"
     ]
    }
   ],
   "source": [
    "model = KNNClassifier(n_neighbors=grid_search.best_['n_neighbors'],weights='distance')\n",
    "model.fit(X_train,y_train)\n",
    "\n",
    "print(f'Train Acc: {model.score(X_train,y_train)} -- Test Acc: {model.score(X_test,y_test)}')"
   ]
  },
  {
   "cell_type": "code",
   "execution_count": 16,
   "metadata": {
    "id": "Ex-X1PngbyQE"
   },
   "outputs": [],
   "source": []
  }
 ],
 "metadata": {
  "colab": {
   "collapsed_sections": [],
   "name": "KNN.ipynb",
   "provenance": [],
   "toc_visible": true
  },
  "kernelspec": {
   "display_name": "Python 3",
   "language": "python",
   "name": "python3"
  },
  "language_info": {
   "codemirror_mode": {
    "name": "ipython",
    "version": 3
   },
   "file_extension": ".py",
   "mimetype": "text/x-python",
   "name": "python",
   "nbconvert_exporter": "python",
   "pygments_lexer": "ipython3",
   "version": "3.8.5"
  }
 },
 "nbformat": 4,
 "nbformat_minor": 4
}
