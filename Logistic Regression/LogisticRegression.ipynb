{
 "cells": [
  {
   "cell_type": "code",
   "execution_count": 1,
   "metadata": {
    "id": "GBViHdwU3w6W"
   },
   "outputs": [],
   "source": [
    "import numpy as np\n",
    "import matplotlib.pyplot as plt\n",
    "\n",
    "from logistic_regression import StratifiedShuffleSplit\n",
    "from logistic_regression import LogisticRegression\n",
    "from logistic_regression import StandardScaler\n",
    "from logistic_regression import OrdinalEncoderColumn\n",
    "\n",
    "import pandas as pd"
   ]
  },
  {
   "cell_type": "markdown",
   "metadata": {},
   "source": [
    "#### Load Data\n",
    "Divide dataset to 2 sets:\n",
    "1. Train Set: 0.7 of orginal dataset\n",
    "2. Test Set: 0.3 of orginal dataset\n",
    "\n",
    "When using LogisticRegression all features have to be numerical, So we use ordinal encoding on nomial features."
   ]
  },
  {
   "cell_type": "code",
   "execution_count": 2,
   "metadata": {
    "colab": {
     "base_uri": "https://localhost:8080/"
    },
    "id": "BduSYT7n4bk_",
    "outputId": "f9f2409d-0446-4399-a10f-16130897e25a"
   },
   "outputs": [
    {
     "name": "stdout",
     "output_type": "stream",
     "text": [
      "X_train.shape: (22794, 14) -- y_train.shape: (22794,)\n",
      "X_test.shape: (9767, 14) -- y_test.shape: (9767,)\n"
     ]
    }
   ],
   "source": [
    "def load_data(filepath):\n",
    "    cols = ['Age','WorkClass','FinancialWeight','Education',\n",
    "           'Education-num','MaritalStatus','Occupation','Relationship',\n",
    "           'Race','Sex','CapitalGain','CapitalLoss','HourPerWeek',\n",
    "           'NativeCountry','Income']\n",
    "    data = pd.read_csv(filepath,header=None,names=cols)\n",
    "    \n",
    "    N,D = data.shape\n",
    "    D = D-1\n",
    "    \n",
    "    X = np.empty((N,D),dtype='float64')\n",
    "    y = np.where(data.iloc[:,-1]==' <=50K',0,1).astype('int64')\n",
    "    \n",
    "    nomial_features = [1,3,5,6,7,8,9,13]\n",
    "    ordinal_encoder = OrdinalEncoderColumn()\n",
    "    \n",
    "    for i in range(D):\n",
    "        if i in nomial_features:\n",
    "            ordinal_encoder.fit(data.iloc[:,i])\n",
    "            X[:,i] = ordinal_encoder.transform(data.iloc[:,i])\n",
    "        else:\n",
    "            X[:,i] = data.iloc[:,i]\n",
    "    \n",
    "    split = StratifiedShuffleSplit(test_size=0.3,shuffle=True)\n",
    "    (X_train,y_train),(X_test,y_test) = split.split(X,y)\n",
    "    return data,(X_train,y_train),(X_test,y_test)\n",
    "\n",
    "data,(X_train,y_train),(X_test,y_test) = load_data('Data.csv')\n",
    "print(f'X_train.shape: {X_train.shape} -- y_train.shape: {y_train.shape}')\n",
    "print(f'X_test.shape: {X_test.shape} -- y_test.shape: {y_test.shape}')"
   ]
  },
  {
   "cell_type": "markdown",
   "metadata": {},
   "source": [
    "If we normalize our data then logistic has higher accuracy on data"
   ]
  },
  {
   "cell_type": "code",
   "execution_count": 3,
   "metadata": {
    "id": "PTwrSRGE4ygX"
   },
   "outputs": [],
   "source": [
    "scaler = StandardScaler()\n",
    "scaler.fit(X_train)\n",
    "\n",
    "scaled_X_train = scaler.transform(X_train)\n",
    "scaled_X_test = scaler.transform(X_test)"
   ]
  },
  {
   "cell_type": "code",
   "execution_count": 4,
   "metadata": {
    "colab": {
     "base_uri": "https://localhost:8080/"
    },
    "id": "wmpMFjAW_skr",
    "outputId": "2b23315f-a595-4ece-896e-ca7e81497583"
   },
   "outputs": [
    {
     "name": "stdout",
     "output_type": "stream",
     "text": [
      "Epoch 2000 => loss=0.9954604976319176 - Acc=0.8308326752654207\n",
      "Train Acc:0.8308326752654207\n",
      "Test Acc:0.8279922186956077\n"
     ]
    }
   ],
   "source": [
    "model = LogisticRegression()\n",
    "history=model.fit(scaled_X_train,y_train,epochs=2000,batch_size=256,learning_rate=0.25,clip_norm=1,\n",
    "                  return_history=True,verbose=1)\n",
    "\n",
    "print(f'Train Acc:{model.score(scaled_X_train,y_train)}')\n",
    "\n",
    "print(f'Test Acc:{model.score(scaled_X_test,y_test)}')"
   ]
  },
  {
   "cell_type": "code",
   "execution_count": 5,
   "metadata": {
    "colab": {
     "base_uri": "https://localhost:8080/",
     "height": 353
    },
    "id": "C1qkMQUz_u2H",
    "outputId": "999aa8d5-13bd-439c-8ad3-194378ddf413"
   },
   "outputs": [
    {
     "data": {
      "image/png": "[encoded data removed]",
      "text/plain": [
       "<Figure size 864x360 with 2 Axes>"
      ]
     },
     "metadata": {
      "needs_background": "light"
     },
     "output_type": "display_data"
    }
   ],
   "source": [
    "plt.figure(figsize=(12,5))\n",
    "\n",
    "plt.subplot(1,2,1)\n",
    "plt.title('Loss')\n",
    "plt.plot(history['loss'],label='loss')\n",
    "plt.legend()\n",
    "\n",
    "plt.subplot(1,2,2)\n",
    "plt.title('Acc')\n",
    "plt.plot(history['acc'],label='acc')\n",
    "plt.legend()\n",
    "plt.savefig('Acc.png')"
   ]
  },
  {
   "cell_type": "code",
   "execution_count": null,
   "metadata": {},
   "outputs": [],
   "source": []
  },
  {
   "cell_type": "code",
   "execution_count": null,
   "metadata": {},
   "outputs": [],
   "source": []
  }
 ],
 "metadata": {
  "colab": {
   "collapsed_sections": [],
   "name": "LogisticRegression.ipynb",
   "provenance": []
  },
  "kernelspec": {
   "display_name": "Python 3",
   "language": "python",
   "name": "python3"
  },
  "language_info": {
   "codemirror_mode": {
    "name": "ipython",
    "version": 3
   },
   "file_extension": ".py",
   "mimetype": "text/x-python",
   "name": "python",
   "nbconvert_exporter": "python",
   "pygments_lexer": "ipython3",
   "version": "3.8.8"
  }
 },
 "nbformat": 4,
 "nbformat_minor": 4
}
